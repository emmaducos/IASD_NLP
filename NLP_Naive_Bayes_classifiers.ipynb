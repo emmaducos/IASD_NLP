{
 "cells": [
  {
   "cell_type": "code",
   "execution_count": 117,
   "metadata": {},
   "outputs": [],
   "source": [
    "import spacy\n",
    "from spacy.lang.en.stop_words import STOP_WORDS\n",
    "from spacy.tokens import Token, Doc\n",
    "from spacy.attrs import LOWER, IS_ALPHA, LEMMA\n",
    "# !python -m spacy download en_core_web_sm  # à télécharger en ligne de commande\n",
    "from spacy.lang.en import English\n",
    "\n",
    "import re\n",
    "import csv\n",
    "import numpy as np\n",
    "import pandas as pd\n",
    "import time\n",
    "import random\n",
    "import string\n",
    "\n",
    "from sklearn.naive_bayes import MultinomialNB\n",
    "from sklearn.metrics import accuracy_score, precision_score, recall_score, hamming_loss, f1_score\n",
    "from sklearn.feature_extraction.text import CountVectorizer\n",
    "\n",
    "import math\n",
    "from operator import itemgetter \n",
    "from collections import Counter\n",
    "from joblib import dump, load\n",
    "import matplotlib.pyplot as plt\n",
    "import copy"
   ]
  },
  {
   "cell_type": "markdown",
   "metadata": {},
   "source": [
    "# Functions"
   ]
  },
  {
   "cell_type": "code",
   "execution_count": 47,
   "metadata": {},
   "outputs": [],
   "source": [
    "def shuffle_lists(list_data, list_labels):\n",
    "    shuff = list(zip(list_data, list_labels))\n",
    "    random.shuffle(shuff)\n",
    "    list_data, list_labels = zip(*shuff)\n",
    "    return list_data, list_labels\n",
    "\n",
    "\n",
    "# lit le fichier de train, retourne la liste des data et la liste des labels associée\n",
    "# les labels sont transformés pour faire du single label\n",
    "def read_csv_single_label(path):\n",
    "    list_data = []\n",
    "    list_labels = []\n",
    "    with open(path, 'r', encoding=\"utf8\") as csv_file:\n",
    "        reader = csv.reader(csv_file, delimiter=',')\n",
    "        for line in reader:\n",
    "            if reader.line_num != 1:\n",
    "                # on obtient tous les indices où se trouvent les 1 (labels)\n",
    "                # on crée une ligne pour chaque indice\n",
    "                # s'il n'y a pas d'indice, alors on ajoute le label 6 (que des 0)\n",
    "                index_list = [i for i, value in enumerate(line[2:]) if value == \"1\"]\n",
    "                nb_labels = len(index_list)\n",
    "                if nb_labels == 0:\n",
    "                    list_data.append(line[1])\n",
    "                    list_labels.append(6)\n",
    "                else:\n",
    "                    list_data.extend([line[1]] * nb_labels)\n",
    "                    list_labels.extend(index_list)\n",
    "    # on mélange les exemples\n",
    "    list_data, list_labels = shuffle_lists(list_data, list_labels)\n",
    "    return list_data, list_labels\n",
    "\n",
    "\n",
    "# lit les deux fichiers de test\n",
    "# transforme les data en single label\n",
    "def read_csv_test_single(path_data, path_label):\n",
    "    data_test = pd.read_csv(path_data)\n",
    "    labels_test = pd.read_csv(path_label)\n",
    "    # supression des lignes dont les labels sont -1\n",
    "    ind_to_delete = labels_test.index[labels_test['toxic'] == -1].tolist() \n",
    "    data_test = data_test.drop(ind_to_delete, axis=0)\n",
    "    labels_test = labels_test.drop(ind_to_delete, axis=0)\n",
    "    # suppression de la première colonne (identifiant) dans data_test et labels_test\n",
    "    data_test = data_test.drop(columns=['id'])\n",
    "    labels_test = labels_test.drop(columns=['id'])\n",
    "    # transformer labels_test pour avoir du single label\n",
    "    list_data = []\n",
    "    list_labels = []\n",
    "    for i in range(len(data_test)):\n",
    "        zero = True\n",
    "        for j in range(6):\n",
    "            if labels_test.iloc[i, j] == 1:\n",
    "                zero = False\n",
    "                list_data.append(data_test.iloc[i, 0])\n",
    "                list_labels.append(j)\n",
    "        if zero:\n",
    "            list_data.append(data_test.iloc[i, 0])\n",
    "            list_labels.append(6)\n",
    "    return list_data, list_labels\n",
    "\n",
    "\n",
    "# lit les deux fichiers de test\n",
    "def read_csv_test_multi(path_data, path_label):\n",
    "    data_test = pd.read_csv(path_data)\n",
    "    labels_test = pd.read_csv(path_label)\n",
    "    # supression des lignes dont les labels sont -1\n",
    "    ind_to_delete = labels_test.index[labels_test['toxic'] == -1].tolist() \n",
    "    data_test = data_test.drop(ind_to_delete, axis=0)\n",
    "    labels_test = labels_test.drop(ind_to_delete, axis=0)\n",
    "    # suppression de la première colonne (identifiant) dans data_test et labels_test\n",
    "    data_test = data_test.drop(columns=['id'])\n",
    "    labels_test = labels_test.drop(columns=['id'])\n",
    "    list_data = data_test.iloc[:, 0].to_list()\n",
    "    list_labels = labels_test.values.tolist()\n",
    "    return list_data, list_labels\n"
   ]
  },
  {
   "cell_type": "code",
   "execution_count": 3,
   "metadata": {},
   "outputs": [],
   "source": [
    "# SpaCy functions\n",
    "\n",
    "# fait partie du pipeline de spacy\n",
    "# enlève les stopwords, ponctuations, nombres\n",
    "# garde les racines (lemmas) des mots\n",
    "def remove_tokens(doc):\n",
    "    indexes = []\n",
    "    letters = r\"([\\w]+)\"\n",
    "    numbers = r\"([0-9]+)\"\n",
    "    # déterminer les mots à enlever\n",
    "    for index, token in enumerate(doc):\n",
    "        not_stopword = token.lemma_ not in stopwords\n",
    "        not_punctuation = token.lemma_ not in string.punctuation  # or token.lemma_ == \"!\"\n",
    "        not_number = re.match(numbers, token.lemma_) is None\n",
    "        keepit = not_stopword and re.match(letters, token.text) is not None and not_number and not_punctuation\n",
    "        if not keepit:\n",
    "            indexes.append(index)\n",
    "    # supprimer les mots non nécessaires\n",
    "    np_array = doc.to_array([LOWER, IS_ALPHA, LEMMA])  \n",
    "    np_array = np.delete(np_array, indexes, axis=0)\n",
    "    doc2 = Doc(doc.vocab, words=[t.text for ind, t in enumerate(doc) if ind not in indexes])\n",
    "    doc2.from_array([LOWER, IS_ALPHA, LEMMA], np_array)\n",
    "    return doc2\n",
    "\n",
    "\n",
    "# amélioration possible : enlever les _ et les # qui sont à l'intérieur d'un mot\n",
    "# renvoie une liste de strings composées de lemmas et sans les stopwords, ponctuations... \n",
    "def spacy_processing(list_data, pipeline):\n",
    "    with pipeline.disable_pipes(\"tagger\", \"parser\"):\n",
    "        docs = list(pipeline.pipe(list_data))\n",
    "    for i in range(len(docs)): \n",
    "        docs[i] = [word.lemma_.lower().strip() if word.lemma_ != \"-PRON-\" else word.lower_ for word in docs[i]]\n",
    "        docs[i] = ' '.join(docs[i])\n",
    "    return docs"
   ]
  },
  {
   "cell_type": "markdown",
   "metadata": {},
   "source": [
    "# Lecture et transformation des documents"
   ]
  },
  {
   "cell_type": "markdown",
   "metadata": {},
   "source": [
    "## Lecture et stats"
   ]
  },
  {
   "cell_type": "code",
   "execution_count": 4,
   "metadata": {},
   "outputs": [
    {
     "name": "stdout",
     "output_type": "stream",
     "text": [
      "reading done \n"
     ]
    }
   ],
   "source": [
    "# lecture du jeu de train\n",
    "path = 'data/train.csv'\n",
    "list_data_train, list_labels_train = read_csv_single_label(path)\n",
    "print(\"reading done \")\n",
    "np_labels_train = np.asarray(list_labels_train)  "
   ]
  },
  {
   "cell_type": "code",
   "execution_count": 5,
   "metadata": {},
   "outputs": [
    {
     "name": "stdout",
     "output_type": "stream",
     "text": [
      "9.344231128692627\n"
     ]
    }
   ],
   "source": [
    "# lecture du jeu de test\n",
    "path_data_test = 'data/test.csv'\n",
    "path_labels_test = 'data/test_labels.csv'\n",
    "\n",
    "t0 = time.time()\n",
    "list_data_test, list_labels_test = read_csv_test_single(path_data_test, path_labels_test)   \n",
    "t1 = time.time()\n",
    "print(t1-t0)\n",
    "np_labels_test = np.asarray(list_labels_test) "
   ]
  },
  {
   "cell_type": "code",
   "execution_count": 48,
   "metadata": {},
   "outputs": [
    {
     "name": "stdout",
     "output_type": "stream",
     "text": [
      "1.6745884418487549\n"
     ]
    }
   ],
   "source": [
    "# lecture du jeu de test pour obtenir la hamming_loss\n",
    "path_data_test = 'data/test.csv'\n",
    "path_labels_test = 'data/test_labels.csv'\n",
    "\n",
    "t0 = time.time()\n",
    "list_data_test_hamming, list_labels_test_hamming = read_csv_test_multi(path_data_test, path_labels_test)\n",
    "t1 = time.time()\n",
    "print(t1-t0)\n",
    "np_labels_test_hamming = np.asarray(list_labels_test_hamming)"
   ]
  },
  {
   "cell_type": "code",
   "execution_count": 212,
   "metadata": {},
   "outputs": [
    {
     "name": "stdout",
     "output_type": "stream",
     "text": [
      "frequency : \n",
      "0 0.08570756091546929\n",
      "1 0.008938378426845396\n",
      "2 0.04734818766671897\n",
      "3 0.002678711528546771\n",
      "4 0.04414270023088476\n",
      "5 0.007873618614243124\n",
      "6 0.8033108426172917\n"
     ]
    }
   ],
   "source": [
    "# stats sur les labels d'entraînement \n",
    "(unique, counts) = np.unique(np_labels_train, return_counts=True, axis=0)\n",
    "counts = counts / np_labels_train.shape[0]\n",
    "print(\"frequency : \")\n",
    "for i in range(unique.shape[0]):\n",
    "    print(unique[i], counts[i])"
   ]
  },
  {
   "cell_type": "code",
   "execution_count": 213,
   "metadata": {},
   "outputs": [
    {
     "name": "stdout",
     "output_type": "stream",
     "text": [
      "0 0.4357513248618155\n",
      "1 0.045444184853837825\n",
      "2 0.24072596729158358\n",
      "3 0.013619009630178357\n",
      "4 0.2244287423784831\n",
      "5 0.04003077098410166\n"
     ]
    }
   ],
   "source": [
    "# stats sur les labels d'entraînement sans la classe non toxique\n",
    "(unique, counts) = np.unique(np_labels_train, return_counts=True, axis=0)\n",
    "counts = counts / (np_labels_train.shape[0] - counts[6])\n",
    "for i in range(unique.shape[0] - 1):\n",
    "    print(unique[i], counts[i])"
   ]
  },
  {
   "cell_type": "code",
   "execution_count": 43,
   "metadata": {},
   "outputs": [
    {
     "name": "stdout",
     "output_type": "stream",
     "text": [
      "frequency : \n",
      "0 0.08431049520302356\n",
      "1 0.005080780252793044\n",
      "2 0.051098528373458116\n",
      "3 0.002921102543158944\n",
      "4 0.04744368917253887\n",
      "5 0.009856990572176151\n",
      "6 0.7992884138828513\n"
     ]
    }
   ],
   "source": [
    "# stats sur les labels de test\n",
    "(unique, counts) = np.unique(np_labels_test, return_counts=True, axis=0)\n",
    "counts = counts / np_labels_test.shape[0]\n",
    "print(\"frequency : \")\n",
    "for i in range(unique.shape[0]):\n",
    "    print(unique[i], counts[i])"
   ]
  },
  {
   "cell_type": "markdown",
   "metadata": {},
   "source": [
    "## SpaCy"
   ]
  },
  {
   "cell_type": "code",
   "execution_count": 6,
   "metadata": {},
   "outputs": [
    {
     "name": "stdout",
     "output_type": "stream",
     "text": [
      "spacy done :  1482.764286518097\n"
     ]
    }
   ],
   "source": [
    "#processing des phrases du train\n",
    "nlp = spacy.load(\"en_core_web_sm\")\n",
    "Token.set_extension('keepit', default=False, force=True)\n",
    "nlp.add_pipe(remove_tokens, name='remove_tokens', last=True)\n",
    "\n",
    "stopwords = list(STOP_WORDS)\n",
    "t0 = time.time()\n",
    "list_tokens = spacy_processing(list_data_train, nlp)  \n",
    "t1 = time.time()\n",
    "print(\"spacy done : \", t1-t0)"
   ]
  },
  {
   "cell_type": "code",
   "execution_count": 7,
   "metadata": {},
   "outputs": [
    {
     "name": "stdout",
     "output_type": "stream",
     "text": [
      "spacy done :  355.2696285247803\n"
     ]
    }
   ],
   "source": [
    "# processing des phrases de test\n",
    "t0 = time.time()\n",
    "list_tokens_test = spacy_processing(list_data_test, nlp) \n",
    "t1 = time.time()\n",
    "print(\"spacy done : \", t1-t0)"
   ]
  },
  {
   "cell_type": "code",
   "execution_count": 50,
   "metadata": {},
   "outputs": [
    {
     "name": "stdout",
     "output_type": "stream",
     "text": [
      "spacy done :  296.4033622741699\n"
     ]
    }
   ],
   "source": [
    "# processing des phrases de test pour hamming_loss\n",
    "t0 = time.time()\n",
    "list_tokens_test_hamming = spacy_processing(list_data_test_hamming, nlp) \n",
    "t1 = time.time()\n",
    "print(\"spacy done : \", t1-t0)"
   ]
  },
  {
   "cell_type": "markdown",
   "metadata": {},
   "source": [
    "# Sans augmentation de données"
   ]
  },
  {
   "cell_type": "markdown",
   "metadata": {},
   "source": [
    "## Transformation en matrice"
   ]
  },
  {
   "cell_type": "code",
   "execution_count": 51,
   "metadata": {},
   "outputs": [],
   "source": [
    "# création de la matrice des mots par document\n",
    "vectorizer = CountVectorizer()\n",
    "corpus_train = vectorizer.fit_transform(list_tokens)\n",
    "corpus_test = vectorizer.transform(list_tokens_test)\n",
    "corpus_test_hamming = vectorizer.transform(list_tokens_test_hamming)"
   ]
  },
  {
   "cell_type": "markdown",
   "metadata": {},
   "source": [
    "## Modèle bayésien naïf simple"
   ]
  },
  {
   "cell_type": "code",
   "execution_count": 9,
   "metadata": {},
   "outputs": [
    {
     "data": {
      "text/plain": [
       "MultinomialNB(alpha=1.0, class_prior=None, fit_prior=True)"
      ]
     },
     "execution_count": 9,
     "metadata": {},
     "output_type": "execute_result"
    }
   ],
   "source": [
    "naive_bayes = MultinomialNB()\n",
    "naive_bayes.fit(corpus_train, np_labels_train)  "
   ]
  },
  {
   "cell_type": "code",
   "execution_count": 10,
   "metadata": {},
   "outputs": [
    {
     "name": "stdout",
     "output_type": "stream",
     "text": [
      "Accuracy score:  0.8071103235363338\n",
      "Precision score:  0.7995609304890884\n",
      "Recall score:  0.8071103235363338\n"
     ]
    }
   ],
   "source": [
    "# Prédictions pour du single label au total\n",
    "predictions = naive_bayes.predict(corpus_test)\n",
    "print(\"Accuracy score: \", accuracy_score(np_labels_test, predictions))\n",
    "print(\"Precision score: \", precision_score(np_labels_test, predictions, average='weighted'))\n",
    "print(\"Recall score: \", recall_score(np_labels_test, predictions, average='weighted'))"
   ]
  },
  {
   "cell_type": "code",
   "execution_count": 130,
   "metadata": {},
   "outputs": [
    {
     "name": "stdout",
     "output_type": "stream",
     "text": [
      "[0.6064039408866995, 0.021798365122615803, 0.08859387699810349, 0.0, 0.029763641669098336, 0.011235955056179775, 0.9381137957911145]\n"
     ]
    }
   ],
   "source": [
    "# Prédictions pour du single label classe par classe\n",
    "\n",
    "np_accuracy = np.hstack((np_labels_test.reshape((-1, 1)), predictions.reshape((-1, 1))))\n",
    "comparison = np.equal(np_accuracy[:, 0], np_accuracy[:, 1]).reshape((-1, 1))\n",
    "np_accuracy = np.hstack((np_accuracy, comparison))\n",
    "\n",
    "array_proportion_correct = []\n",
    "for classe in range(7):\n",
    "    index_classe = np.where(np_accuracy[:, 0] == classe) \n",
    "    array_classe = np.take(np_accuracy, index_classe, axis=0).reshape(-1, 3)\n",
    "    nb_correct_pred = np.sum(array_classe[:, 2])\n",
    "    array_proportion_correct.append(nb_correct_pred / array_classe.shape[0])\n",
    "\n",
    "print(array_proportion_correct)"
   ]
  },
  {
   "cell_type": "code",
   "execution_count": 12,
   "metadata": {},
   "outputs": [
    {
     "data": {
      "image/png": "[encoded data removed]",
      "text/plain": [
       "<Figure size 432x288 with 1 Axes>"
      ]
     },
     "metadata": {
      "needs_background": "light"
     },
     "output_type": "display_data"
    }
   ],
   "source": [
    "names = [\"toxic\", \"severe\\ntoxic\", \"obscene\", \"threat\", \"insult\", \"identity\\nhate\", \"non\\ntoxic\"]\n",
    "\n",
    "plt.bar(names, array_proportion_correct)\n",
    "plt.xlabel('labels')\n",
    "plt.ylabel('accuracy')\n",
    "plt.title(\"Accuracy par catégorie obtenue avec un modèle bayésien naïf\")\n",
    "plt.savefig(\"accuracy_toutes_classes_bayésien_simple.png\")"
   ]
  },
  {
   "cell_type": "code",
   "execution_count": 82,
   "metadata": {},
   "outputs": [
    {
     "name": "stdout",
     "output_type": "stream",
     "text": [
      "0.0366167536757427\n"
     ]
    }
   ],
   "source": [
    "# Hamming loss\n",
    "\n",
    "predictions_hamming = naive_bayes.predict_proba(corpus_test_hamming)\n",
    "# on supprime la colonne qui correspond à la classe non toxic\n",
    "predictions_hamming = np.delete(predictions_hamming, -1, axis=1)\n",
    "# on transforme les probas en labels\n",
    "predictions_hamming = (predictions_hamming >= 0.5).astype(int)\n",
    "\n",
    "hamming_loss_simple = hamming_loss(np_labels_test_hamming, predictions_hamming)\n",
    "print(hamming_loss_simple)"
   ]
  },
  {
   "cell_type": "markdown",
   "metadata": {},
   "source": [
    "## Modèle bayésien naïf double"
   ]
  },
  {
   "cell_type": "markdown",
   "metadata": {},
   "source": [
    "### Définition des modèles"
   ]
  },
  {
   "cell_type": "code",
   "execution_count": 13,
   "metadata": {},
   "outputs": [],
   "source": [
    "# création des données adaptées à ce modèle\n",
    "# nouveaux labels : 1 : toxique ; 0 : non toxique\n",
    "np_labels_train_01 = (np_labels_train < 6).astype(int) "
   ]
  },
  {
   "cell_type": "code",
   "execution_count": 14,
   "metadata": {},
   "outputs": [
    {
     "data": {
      "text/plain": [
       "MultinomialNB(alpha=1.0, class_prior=None, fit_prior=True)"
      ]
     },
     "execution_count": 14,
     "metadata": {},
     "output_type": "execute_result"
    }
   ],
   "source": [
    "first_bayes = MultinomialNB()\n",
    "first_bayes.fit(corpus_train, np_labels_train_01)"
   ]
  },
  {
   "cell_type": "code",
   "execution_count": 15,
   "metadata": {},
   "outputs": [],
   "source": [
    "# obtention des données uniquement toxiques\n",
    "indices_6 = np.where(np_labels_train < 6)\n",
    "corpus_train_6 = list(itemgetter(*indices_6[0])(list_tokens)) \n",
    "corpus_train_6 = vectorizer.transform(corpus_train_6)\n",
    "np_labels_train_6 = np.take(np_labels_train, indices_6[0], axis=0)"
   ]
  },
  {
   "cell_type": "code",
   "execution_count": 16,
   "metadata": {},
   "outputs": [
    {
     "data": {
      "text/plain": [
       "MultinomialNB(alpha=1.0, class_prior=None, fit_prior=True)"
      ]
     },
     "execution_count": 16,
     "metadata": {},
     "output_type": "execute_result"
    }
   ],
   "source": [
    "second_bayes = MultinomialNB()\n",
    "second_bayes.fit(corpus_train_6, np_labels_train_6)"
   ]
  },
  {
   "cell_type": "markdown",
   "metadata": {},
   "source": [
    "### Test"
   ]
  },
  {
   "cell_type": "code",
   "execution_count": 114,
   "metadata": {},
   "outputs": [
    {
     "name": "stdout",
     "output_type": "stream",
     "text": [
      "accuracy des classes :\n",
      "0  :  0.8863936591809776\n",
      "1  :  0.022099447513812154\n",
      "2  :  0.10531370038412292\n",
      "3  :  0.0\n",
      "4  :  0.03600423579244617\n",
      "5  :  0.0125\n",
      "7 :  0.9053479711489208\n"
     ]
    }
   ],
   "source": [
    "# nouveaux labels : 1 : toxique ; 0 : non toxique\n",
    "\n",
    "# on doit changer les labels du corpus de test en labels binaires\n",
    "np_labels_test_01 = (np_labels_test < 6).astype(int) \n",
    "\n",
    "first_predictions = first_bayes.predict(corpus_test)\n",
    "index_toxic = np.argwhere(first_predictions == 1) # en 2D\n",
    "\n",
    "# constitution du corpus de test avec 6 labels en fonction des premières prédictions\n",
    "corpus_test_6 = list(itemgetter(*index_toxic[:, 0])(list_tokens_test)) \n",
    "corpus_test_6 = vectorizer.transform(corpus_test_6)\n",
    "np_labels_test_6 = np.take(np_labels_test, index_toxic[:, 0], axis=0)\n",
    "\n",
    "second_predictions = second_bayes.predict(corpus_test_6)\n",
    "\n",
    "# accuracy pour la classe non toxique\n",
    "accuracy_7e_classe = accuracy_score(np_labels_test_01, first_predictions)\n",
    "\n",
    "# accuracy pour les autres classes\n",
    "comparison_6 = np.equal(np_labels_test_6.reshape((-1, 1)), second_predictions.reshape((-1, 1)))\n",
    "array_proportion_correct_6 = []\n",
    "for classe in range(6):\n",
    "    index_classe = np.where(np_labels_test_6 == classe)  \n",
    "    array_classe = np.take(comparison_6, index_classe, axis=0).reshape((-1, 1)) \n",
    "    nb_correct_pred = np.sum(array_classe) \n",
    "    array_proportion_correct_6.append(nb_correct_pred / array_classe.shape[0])\n",
    "\n",
    "print(\"accuracy des classes :\")\n",
    "for i in range(6):\n",
    "    print(i, \" : \", array_proportion_correct_6[i])\n",
    "print(\"7 : \", accuracy_7e_classe)"
   ]
  },
  {
   "cell_type": "code",
   "execution_count": 19,
   "metadata": {},
   "outputs": [
    {
     "data": {
      "image/png": "[encoded data removed]",
      "text/plain": [
       "<Figure size 432x288 with 1 Axes>"
      ]
     },
     "metadata": {
      "needs_background": "light"
     },
     "output_type": "display_data"
    }
   ],
   "source": [
    "# graphique\n",
    "names = [\"toxic\", \"severe\\ntoxic\", \"obscene\", \"threat\", \"insult\", \"identity\\nhate\", \"non\\ntoxic\"]\n",
    "proportion_correct_bayésien_double = array_proportion_correct_6 + [accuracy_7e_classe.tolist()]\n",
    "\n",
    "plt.clf\n",
    "plt.bar(names, proportion_correct_bayésien_double)\n",
    "plt.xlabel('labels')\n",
    "plt.ylabel('accuracy')\n",
    "plt.title(\"Accuracy par catégorie obtenue avec un double modèle bayésien naïf\")\n",
    "plt.savefig(\"accuracy_toutes_classes_bayésien_double.png\")"
   ]
  },
  {
   "cell_type": "code",
   "execution_count": 139,
   "metadata": {},
   "outputs": [
    {
     "name": "stdout",
     "output_type": "stream",
     "text": [
      "évaluation du modèle binaire sans augmentation de données : \n",
      "accuracy :  0.9053479711489208\n",
      "precision :  0.7435930047694753\n",
      "recall :  0.8065250379362671\n",
      "F1-score :  0.7737815570922807\n"
     ]
    }
   ],
   "source": [
    "# évaluation du modèle binaire\n",
    "accuracy_binaire = accuracy_score(np_labels_test_01, first_predictions)\n",
    "precision_binaire = precision_score(np_labels_test_01, first_predictions)\n",
    "recall_binaire = recall_score(np_labels_test_01, first_predictions)\n",
    "f1score_binaire = f1_score(np_labels_test_01, first_predictions)\n",
    "\n",
    "print(\"évaluation du modèle binaire sans augmentation de données : \")\n",
    "print(\"accuracy : \", accuracy_binaire)\n",
    "print(\"precision : \", precision_binaire)\n",
    "print(\"recall : \", recall_binaire)\n",
    "print(\"F1-score : \", f1score_binaire)"
   ]
  },
  {
   "cell_type": "code",
   "execution_count": 140,
   "metadata": {},
   "outputs": [
    {
     "name": "stdout",
     "output_type": "stream",
     "text": [
      "évaluation du modèle multinomial sans augmentation de données : \n",
      "accuracy :  0.4148158366671265\n",
      "precision :  0.3350304121331452\n",
      "recall :  0.4148158366671265\n",
      "F1-score :  0.29715465157984966\n"
     ]
    }
   ],
   "source": [
    "# évaluation du deuxième modèle (multinomial)\n",
    "\n",
    "# constitution du jeu de données uniquement toxique\n",
    "true_index_toxic = np.argwhere(np_labels_test < 6) \n",
    "true_corpus_test_6 = list(itemgetter(*true_index_toxic[:, 0])(list_tokens_test)) \n",
    "true_corpus_test_6 = vectorizer.transform(true_corpus_test_6)\n",
    "np_true_labels_test_6 = np.take(np_labels_test, true_index_toxic[:, 0], axis=0)\n",
    "\n",
    "predictions_second_model = second_bayes.predict(true_corpus_test_6)\n",
    "\n",
    "# évaluation \n",
    "accuracy_mult = accuracy_score(np_true_labels_test_6, predictions_second_model)\n",
    "precision_mult = precision_score(np_true_labels_test_6, predictions_second_model, average='weighted')\n",
    "recall_mult = recall_score(np_true_labels_test_6, predictions_second_model, average='weighted')\n",
    "f1score_mult = f1_score(np_true_labels_test_6, predictions_second_model, average='weighted')\n",
    "\n",
    "print(\"évaluation du modèle multinomial sans augmentation de données : \")\n",
    "print(\"accuracy : \", accuracy_mult)\n",
    "print(\"precision : \", precision_mult)\n",
    "print(\"recall : \", recall_mult)\n",
    "print(\"F1-score : \", f1score_mult)"
   ]
  },
  {
   "cell_type": "code",
   "execution_count": 142,
   "metadata": {},
   "outputs": [
    {
     "name": "stdout",
     "output_type": "stream",
     "text": [
      "hamming loss sur les exemples prédits toxiques\n",
      "0.2240715056249037\n",
      "hamming loss sur tous les exemples\n",
      "0.03760928235747705\n"
     ]
    }
   ],
   "source": [
    "# hamming loss sur les deux modèles\n",
    "\n",
    "first_predictions_hamming = first_bayes.predict(corpus_test_hamming)\n",
    "\n",
    "index_toxic_hamming = np.argwhere(first_predictions_hamming == 1)\n",
    "list_range = list(range(first_predictions_hamming.shape[0]))\n",
    "index_non_toxic_hamming = [x for x in list_range if x not in index_toxic_hamming[:, 0]]\n",
    "\n",
    "# exemples prédits toxiques\n",
    "corpus_test_hamming_6 = list(itemgetter(*index_toxic_hamming[:, 0])(list_tokens_test_hamming)) \n",
    "corpus_test_hamming_6 = vectorizer.transform(corpus_test_hamming_6)\n",
    "np_labels_test_hamming_6 = np.take(np_labels_test_hamming, index_toxic_hamming[:, 0], axis=0)\n",
    "\n",
    "# exemples prédits non toxiques\n",
    "np_labels_test_hamming_7 = np.take(np_labels_test_hamming, index_non_toxic_hamming, axis=0)\n",
    "first_predictions_hamming_7 = np.zeros((len(index_non_toxic_hamming), 6))\n",
    "\n",
    "second_predictions_hamming = second_bayes.predict_proba(corpus_test_hamming_6)\n",
    "second_predictions_hamming = (second_predictions_hamming >= 0.5).astype(int)\n",
    "\n",
    "# concaténation pour appliquer la hamming loss\n",
    "predictions_hamming_double = np.vstack((first_predictions_hamming_7, second_predictions_hamming))\n",
    "np_labels_hamming_double = np.vstack((np_labels_test_hamming_7, np_labels_test_hamming_6))\n",
    "\n",
    "print(\"hamming loss sur les exemples prédits toxiques\")\n",
    "print(hamming_loss(np_labels_test_hamming_6, second_predictions_hamming))\n",
    "\n",
    "hamming_loss_double = hamming_loss(np_labels_hamming_double, predictions_hamming_double)\n",
    "print(\"hamming loss sur tous les exemples\")\n",
    "print(hamming_loss_double)"
   ]
  },
  {
   "cell_type": "code",
   "execution_count": 143,
   "metadata": {},
   "outputs": [
    {
     "name": "stdout",
     "output_type": "stream",
     "text": [
      "hamming loss sur tous les exemples toxiques\n",
      "0.2550056062790325\n"
     ]
    }
   ],
   "source": [
    "print(\"hamming loss sur tous les exemples toxiques\")\n",
    "# il faut récupérer les labels pour les vrais exemples toxiques, faire la prédiction_proba, transformer en 0_1\n",
    "summ = np.sum(np_labels_test_hamming, axis=1)  \n",
    "index_true_toxic_hamming = np.argwhere(summ > 0)  # 2D, (6243, 1)\n",
    "\n",
    "corpus_test_true_toxic_hamming = list(itemgetter(*index_true_toxic_hamming[:, 0])(list_tokens_test_hamming)) \n",
    "corpus_test_true_toxic_hamming = vectorizer.transform(corpus_test_true_toxic_hamming)\n",
    "labels_test_true_toxic_hamming = np.take(np_labels_test_hamming, index_true_toxic_hamming[:, 0], axis=0)\n",
    "\n",
    "predictions_true_toxic_hamming = second_bayes.predict_proba(corpus_test_true_toxic_hamming)\n",
    "predictions_true_toxic_hamming = (predictions_true_toxic_hamming >= 0.5).astype(int)\n",
    "print(hamming_loss(labels_test_true_toxic_hamming, predictions_true_toxic_hamming))"
   ]
  },
  {
   "cell_type": "markdown",
   "metadata": {},
   "source": [
    "# Avec augmentation de données"
   ]
  },
  {
   "cell_type": "code",
   "execution_count": 21,
   "metadata": {},
   "outputs": [
    {
     "name": "stdout",
     "output_type": "stream",
     "text": [
      "temps :  0.3855459690093994\n"
     ]
    }
   ],
   "source": [
    "# si on n'utilise ces fonctions qu'une seule fois, on multiplie par 4 le nombre d'exemples des classes sélectionnées \n",
    "\n",
    "# increase the number of examples of severe_toxic, threat, and identity_hate\n",
    "# ici, on suppose que np_labels est un 1D array\n",
    "def unique_word_augm(list_tokens, np_labels):\n",
    "    # get the examples from classes 1, 3, 5 in a new list\n",
    "    wanted_classes = np.array([1, 3, 5])\n",
    "    index_classes = np.where(np.in1d(np_labels, wanted_classes))\n",
    "    wanted_tokens = list(itemgetter(*index_classes[0])(list_tokens))\n",
    "    wanted_labels = np.take(np_labels, index_classes[0])\n",
    "    # remove the duplicate words\n",
    "    for i in range(len(wanted_tokens)):\n",
    "        spl = wanted_tokens[i].split(\" \")\n",
    "        count = Counter(spl)\n",
    "        list_unique = list(count.keys())\n",
    "        wanted_tokens[i] = \" \".join(list_unique)\n",
    "    # add to list_tokens and np_labels\n",
    "    new_list_tokens = list_tokens + wanted_tokens\n",
    "    new_np_labels = np.hstack((np_labels, wanted_labels))\n",
    "    return new_list_tokens, new_np_labels\n",
    "\n",
    "def random_mask(list_tokens, np_labels):\n",
    "    # get the examples from classes 1, 3, 5 in a new list\n",
    "    wanted_classes = np.array([1, 3, 5])\n",
    "    index_classes = np.where(np.in1d(np_labels, wanted_classes))\n",
    "    wanted_tokens = list(itemgetter(*index_classes[0])(list_tokens))\n",
    "    wanted_labels = np.take(np_labels, index_classes[0])\n",
    "    # créer un masque qui garde 80% des mots (qui en enlève 20%)\n",
    "    for i in range(len(wanted_tokens)):\n",
    "        tokens = wanted_tokens[i].split()\n",
    "        mask = np.random.choice([0, 1], size=(len(tokens),), p=[0.2, 0.8]).astype(bool)  \n",
    "        new_tokens = list(np.array(tokens)[mask])\n",
    "        wanted_tokens[i] = \" \".join(new_tokens)\n",
    "    new_list_tokens = list_tokens + wanted_tokens\n",
    "    new_np_labels = np.hstack((np_labels, wanted_labels))\n",
    "    return new_list_tokens, new_np_labels\n",
    "\n",
    "\n",
    "t0 = time.time()\n",
    "list_tokens_aug, np_labels_train_aug = unique_word_augm(list_tokens, np_labels_train)\n",
    "list_tokens_aug, np_labels_train_aug = random_mask(list_tokens_aug, np_labels_train_aug)\n",
    "t1 = time.time()\n",
    "print(\"temps : \", t1-t0) "
   ]
  },
  {
   "cell_type": "markdown",
   "metadata": {},
   "source": [
    "## Transformation en matrice"
   ]
  },
  {
   "cell_type": "code",
   "execution_count": 83,
   "metadata": {},
   "outputs": [],
   "source": [
    "vectorizer_aug = CountVectorizer()\n",
    "\n",
    "corpus_train_aug = vectorizer_aug.fit_transform(list_tokens_aug)\n",
    "corpus_test_aug = vectorizer_aug.transform(list_tokens_test) \n",
    "corpus_test_hamming_aug = vectorizer_aug.transform(list_tokens_test_hamming)"
   ]
  },
  {
   "cell_type": "markdown",
   "metadata": {},
   "source": [
    "## Modèle bayésien naïf simple"
   ]
  },
  {
   "cell_type": "code",
   "execution_count": 84,
   "metadata": {},
   "outputs": [
    {
     "data": {
      "text/plain": [
       "MultinomialNB(alpha=1.0, class_prior=None, fit_prior=True)"
      ]
     },
     "execution_count": 84,
     "metadata": {},
     "output_type": "execute_result"
    }
   ],
   "source": [
    "simple_bayes_aug = MultinomialNB()\n",
    "simple_bayes_aug.fit(corpus_train_aug, np_labels_train_aug)  "
   ]
  },
  {
   "cell_type": "code",
   "execution_count": 85,
   "metadata": {},
   "outputs": [
    {
     "name": "stdout",
     "output_type": "stream",
     "text": [
      "Accuracy score:  0.8020156991956585\n",
      "Precision score:  0.7991641353061136\n",
      "Recall score:  0.8020156991956585\n"
     ]
    }
   ],
   "source": [
    "# Prédictions pour du single label \n",
    "predictions_aug = simple_bayes_aug.predict(corpus_test_aug)\n",
    "print(\"Accuracy score: \", accuracy_score(np_labels_test, predictions_aug))\n",
    "print(\"Precision score: \", precision_score(np_labels_test, predictions_aug, average='weighted'))\n",
    "print(\"Recall score: \", recall_score(np_labels_test, predictions_aug, average='weighted'))"
   ]
  },
  {
   "cell_type": "code",
   "execution_count": 131,
   "metadata": {},
   "outputs": [
    {
     "name": "stdout",
     "output_type": "stream",
     "text": [
      "[0.5686371100164204, 0.26430517711171664, 0.04226496884313194, 0.0, 0.014881820834549168, 0.11095505617977527, 0.9367974365636096]\n"
     ]
    }
   ],
   "source": [
    "# Prédictions pour du single label classe par classe\n",
    "\n",
    "np_accuracy_aug = np.hstack((np_labels_test.reshape((-1, 1)), predictions_aug.reshape((-1, 1))))\n",
    "comparison_aug = np.equal(np_accuracy_aug[:, 0], np_accuracy_aug[:, 1]).reshape((-1, 1))\n",
    "np_accuracy_aug = np.hstack((np_accuracy_aug, comparison_aug))\n",
    "\n",
    "array_proportion_correct_aug = []\n",
    "for classe in range(7):\n",
    "    index_classe = np.where(np_accuracy_aug[:, 0] == classe) # on récupère tous les indices où on est censé prédire la classe\n",
    "    array_classe = np.take(np_accuracy_aug, index_classe, axis=0).reshape(-1, 3)\n",
    "    nb_correct_pred = np.sum(array_classe[:, 2])\n",
    "    array_proportion_correct_aug.append(nb_correct_pred / array_classe.shape[0])\n",
    "print(array_proportion_correct_aug)"
   ]
  },
  {
   "cell_type": "code",
   "execution_count": 116,
   "metadata": {},
   "outputs": [
    {
     "data": {
      "image/png": "[encoded data removed]",
      "text/plain": [
       "<Figure size 432x288 with 1 Axes>"
      ]
     },
     "metadata": {
      "needs_background": "light"
     },
     "output_type": "display_data"
    }
   ],
   "source": [
    "names = [\"toxic\", \"severe\\ntoxic\", \"obscene\", \"threat\", \"insult\", \"identity\\nhate\", \"non\\ntoxic\"]\n",
    "\n",
    "plt.bar(names, array_proportion_correct_aug)\n",
    "plt.xlabel('labels')\n",
    "plt.ylabel('accuracy')\n",
    "plt.title(\"Accuracy par catégorie obtenue avec un modèle bayésien naïf\\net de l'augmentation de données\")\n",
    "plt.savefig(\"accuracy_toutes_classes_bayésien_simple_data_aug.png\")"
   ]
  },
  {
   "cell_type": "code",
   "execution_count": 88,
   "metadata": {},
   "outputs": [
    {
     "name": "stdout",
     "output_type": "stream",
     "text": [
      "0.0366167536757427\n"
     ]
    }
   ],
   "source": [
    "# Hamming loss\n",
    "\n",
    "predictions_hamming_aug = naive_bayes.predict_proba(corpus_test_hamming_aug)\n",
    "# on supprime la colonne qui correspond à la classe non toxic\n",
    "predictions_hamming_aug = np.delete(predictions_hamming_aug, -1, axis=1)\n",
    "# on transforme les probas en labels\n",
    "predictions_hamming_aug = (predictions_hamming_aug >= 0.5).astype(int)\n",
    "\n",
    "hamming_loss_simple_aug = hamming_loss(np_labels_test_hamming, predictions_hamming_aug)\n",
    "print(hamming_loss_simple_aug)"
   ]
  },
  {
   "cell_type": "markdown",
   "metadata": {},
   "source": [
    "## Modèle bayésien naïf double"
   ]
  },
  {
   "cell_type": "markdown",
   "metadata": {},
   "source": [
    "### Définition des modèles"
   ]
  },
  {
   "cell_type": "code",
   "execution_count": 27,
   "metadata": {},
   "outputs": [],
   "source": [
    "# création des données adaptées à ce modèle\n",
    "# nouveaux labels : 1 : toxique ; 0 : non toxique\n",
    "np_labels_train_aug_01 = (np_labels_train_aug < 6).astype(int) "
   ]
  },
  {
   "cell_type": "code",
   "execution_count": 28,
   "metadata": {},
   "outputs": [
    {
     "data": {
      "text/plain": [
       "MultinomialNB(alpha=1.0, class_prior=None, fit_prior=True)"
      ]
     },
     "execution_count": 28,
     "metadata": {},
     "output_type": "execute_result"
    }
   ],
   "source": [
    "first_bayes_aug = MultinomialNB()\n",
    "first_bayes_aug.fit(corpus_train_aug, np_labels_train_aug_01)"
   ]
  },
  {
   "cell_type": "code",
   "execution_count": 29,
   "metadata": {},
   "outputs": [],
   "source": [
    "# obtention des données uniquement toxiques\n",
    "indices_6 = np.where(np_labels_train_aug < 6)\n",
    "corpus_train_aug_6 = list(itemgetter(*indices_6[0])(list_tokens_aug)) \n",
    "corpus_train_aug_6 = vectorizer_aug.transform(corpus_train_aug_6)\n",
    "np_labels_train_aug_6 = np.take(np_labels_train_aug, indices_6[0], axis=0)"
   ]
  },
  {
   "cell_type": "code",
   "execution_count": 30,
   "metadata": {},
   "outputs": [
    {
     "data": {
      "text/plain": [
       "MultinomialNB(alpha=1.0, class_prior=None, fit_prior=True)"
      ]
     },
     "execution_count": 30,
     "metadata": {},
     "output_type": "execute_result"
    }
   ],
   "source": [
    "second_bayes_aug = MultinomialNB()\n",
    "second_bayes_aug.fit(corpus_train_aug_6, np_labels_train_aug_6)"
   ]
  },
  {
   "cell_type": "markdown",
   "metadata": {},
   "source": [
    "### Test"
   ]
  },
  {
   "cell_type": "code",
   "execution_count": 101,
   "metadata": {},
   "outputs": [
    {
     "name": "stdout",
     "output_type": "stream",
     "text": [
      "accuracy des classes :\n",
      "0  :  0.835801393728223\n",
      "1  :  0.2664835164835165\n",
      "2  :  0.05\n",
      "3  :  0.0\n",
      "4  :  0.017919887561489812\n",
      "5  :  0.12576687116564417\n",
      "7 :  0.9037835892182243\n"
     ]
    }
   ],
   "source": [
    "# nouveaux labels : 1 : toxique ; 0 : non toxique\n",
    "# on doit changer les labels du corpus de test en labels binaires\n",
    "np_labels_test_01 = (np_labels_test < 6).astype(int) \n",
    "\n",
    "first_predictions_aug = first_bayes_aug.predict(corpus_test_aug)\n",
    "index_toxic = np.argwhere(first_predictions_aug == 1) \n",
    "\n",
    "# constitution du corpus de test avec 6 labels en fonction des premières prédictions\n",
    "corpus_test_aug_6 = list(itemgetter(*index_toxic[:, 0])(list_tokens_test)) \n",
    "corpus_test_aug_6 = vectorizer_aug.transform(corpus_test_aug_6)\n",
    "np_labels_test_6 = np.take(np_labels_test, index_toxic[:, 0], axis=0)\n",
    "\n",
    "second_predictions_aug = second_bayes_aug.predict(corpus_test_aug_6)\n",
    "\n",
    "# accuracy pour la classe non toxique\n",
    "accuracy_7e_classe_aug = accuracy_score(np_labels_test_01, first_predictions_aug)\n",
    "\n",
    "# accuracy pour les autres classes\n",
    "comparison_6 = np.equal(np_labels_test_6.reshape((-1, 1)), second_predictions_aug.reshape((-1, 1)))\n",
    "array_proportion_correct_aug_6 = []\n",
    "for classe in range(6):\n",
    "    index_classe = np.where(np_labels_test_6 == classe)  \n",
    "    array_classe = np.take(comparison_6, index_classe, axis=0).reshape((-1, 1)) \n",
    "    nb_correct_pred = np.sum(array_classe)  \n",
    "    array_proportion_correct_aug_6.append(nb_correct_pred / array_classe.shape[0])\n",
    "\n",
    "print(\"accuracy des classes :\")\n",
    "for i in range(6):\n",
    "    print(i, \" : \", array_proportion_correct_aug_6[i])\n",
    "print(\"7 : \", accuracy_7e_classe_aug)"
   ]
  },
  {
   "cell_type": "code",
   "execution_count": 102,
   "metadata": {},
   "outputs": [
    {
     "data": {
      "image/png": "[encoded data removed]",
      "text/plain": [
       "<Figure size 432x288 with 1 Axes>"
      ]
     },
     "metadata": {
      "needs_background": "light"
     },
     "output_type": "display_data"
    }
   ],
   "source": [
    "# graphique\n",
    "names = [\"toxic\", \"severe\\ntoxic\", \"obscene\", \"threat\", \"insult\", \"identity\\nhate\", \"non\\ntoxic\"]\n",
    "proportion_correct_bayésien_double_aug = array_proportion_correct_aug_6 + [accuracy_7e_classe_aug.tolist()]\n",
    "\n",
    "plt.clf\n",
    "plt.bar(names, proportion_correct_bayésien_double_aug)\n",
    "plt.xlabel('labels')\n",
    "plt.ylabel('accuracy')\n",
    "plt.title(\"Accuracy par catégorie obtenue avec un double modèle bayésien naïf\\net de l'augmentation de données\")\n",
    "plt.savefig(\"accuracy_toutes_classes_bayésien_double_data_aug.png\")"
   ]
  },
  {
   "cell_type": "code",
   "execution_count": 144,
   "metadata": {},
   "outputs": [
    {
     "name": "stdout",
     "output_type": "stream",
     "text": [
      "évaluation du modèle binaire avec augmentation de données : \n",
      "accuracy :  0.9037835892182243\n",
      "precision :  0.735286783042394\n",
      "recall :  0.8134915160711822\n",
      "F1-score :  0.772414696443775\n"
     ]
    }
   ],
   "source": [
    "# évaluation du modèle binaire\n",
    "accuracy_binaire_aug = accuracy_score(np_labels_test_01, first_predictions_aug)\n",
    "precision_binaire_aug = precision_score(np_labels_test_01, first_predictions_aug)\n",
    "recall_binaire_aug = recall_score(np_labels_test_01, first_predictions_aug)\n",
    "f1score_binaire_aug = f1_score(np_labels_test_01, first_predictions_aug)\n",
    "\n",
    "print(\"évaluation du modèle binaire avec augmentation de données : \")\n",
    "print(\"accuracy : \", accuracy_binaire_aug)\n",
    "print(\"precision : \", precision_binaire_aug)\n",
    "print(\"recall : \", recall_binaire_aug)\n",
    "print(\"F1-score : \", f1score_binaire_aug)"
   ]
  },
  {
   "cell_type": "code",
   "execution_count": 145,
   "metadata": {},
   "outputs": [
    {
     "name": "stdout",
     "output_type": "stream",
     "text": [
      "évaluation du modèle multinomial avec augmentation de données : \n",
      "accuracy :  0.3934335770451097\n",
      "precision :  0.33596391554845634\n",
      "recall :  0.3934335770451097\n",
      "F1-score :  0.2822436317548586\n"
     ]
    }
   ],
   "source": [
    "# évaluation du deuxième modèle (multinomial)\n",
    "\n",
    "# constitution du jeu de données uniquement toxique\n",
    "true_index_toxic = np.argwhere(np_labels_test < 6) \n",
    "true_corpus_test_6 = list(itemgetter(*true_index_toxic[:, 0])(list_tokens_test)) \n",
    "true_corpus_test_aug_6 = vectorizer_aug.transform(true_corpus_test_6)\n",
    "np_true_labels_test_6 = np.take(np_labels_test, true_index_toxic[:, 0], axis=0)\n",
    "\n",
    "predictions_second_model_aug = second_bayes_aug.predict(true_corpus_test_aug_6)\n",
    "\n",
    "# évaluation \n",
    "accuracy_mult_aug = accuracy_score(np_true_labels_test_6, predictions_second_model_aug)\n",
    "precision_mult_aug = precision_score(np_true_labels_test_6, predictions_second_model_aug, average='weighted')\n",
    "recall_mult_aug = recall_score(np_true_labels_test_6, predictions_second_model_aug, average='weighted')\n",
    "f1score_mult_aug = f1_score(np_true_labels_test_6, predictions_second_model_aug, average='weighted')\n",
    "\n",
    "print(\"évaluation du modèle multinomial avec augmentation de données : \")\n",
    "print(\"accuracy : \", accuracy_mult_aug)\n",
    "print(\"precision : \", precision_mult_aug)\n",
    "print(\"recall : \", recall_mult_aug)\n",
    "print(\"F1-score : \", f1score_mult_aug)"
   ]
  },
  {
   "cell_type": "code",
   "execution_count": 146,
   "metadata": {},
   "outputs": [
    {
     "name": "stdout",
     "output_type": "stream",
     "text": [
      "hamming loss sur les exemples prédits toxiques\n",
      "0.22694995702059273\n",
      "hamming loss sur tous les exemples\n",
      "0.03868256796607167\n"
     ]
    }
   ],
   "source": [
    "# hamming loss\n",
    "\n",
    "first_predictions_hamming_aug = first_bayes_aug.predict(corpus_test_hamming_aug)\n",
    "\n",
    "index_toxic_hamming = np.argwhere(first_predictions_hamming_aug == 1) # en 2D\n",
    "list_range = list(range(first_predictions_hamming_aug.shape[0]))\n",
    "index_non_toxic_hamming = [x for x in list_range if x not in index_toxic_hamming[:, 0]]\n",
    "\n",
    "# exemples prédits toxiques\n",
    "corpus_test_hamming_aug_6 = list(itemgetter(*index_toxic_hamming[:, 0])(list_tokens_test_hamming)) \n",
    "corpus_test_hamming_aug_6 = vectorizer_aug.transform(corpus_test_hamming_aug_6)\n",
    "np_labels_test_hamming_aug_6 = np.take(np_labels_test_hamming, index_toxic_hamming[:, 0], axis=0)\n",
    "\n",
    "# exemples prédits non toxiques\n",
    "np_labels_test_hamming_aug_7 = np.take(np_labels_test_hamming, index_non_toxic_hamming, axis=0)\n",
    "first_predictions_hamming_aug_7 = np.zeros((len(index_non_toxic_hamming), 6))\n",
    "\n",
    "second_predictions_hamming_aug = second_bayes_aug.predict_proba(corpus_test_hamming_aug_6)\n",
    "second_predictions_hamming_aug = (second_predictions_hamming_aug >= 0.5).astype(int)\n",
    "\n",
    "# concaténation pour appliquer la hamming loss\n",
    "predictions_hamming_double = np.vstack((first_predictions_hamming_aug_7, second_predictions_hamming_aug))\n",
    "np_labels_hamming_double = np.vstack((np_labels_test_hamming_aug_7, np_labels_test_hamming_aug_6))\n",
    "print(\"hamming loss sur les exemples prédits toxiques\")\n",
    "print(hamming_loss(np_labels_test_hamming_aug_6, second_predictions_hamming_aug))\n",
    "\n",
    "hamming_loss_double_aug = hamming_loss(np_labels_hamming_double, predictions_hamming_double)\n",
    "print(\"hamming loss sur tous les exemples\")\n",
    "print(hamming_loss_double_aug)\n"
   ]
  },
  {
   "cell_type": "markdown",
   "metadata": {},
   "source": [
    "# Comparaison des modèles"
   ]
  },
  {
   "cell_type": "code",
   "execution_count": 104,
   "metadata": {},
   "outputs": [
    {
     "name": "stdout",
     "output_type": "stream",
     "text": [
      "sans augmentation de données\n",
      "classe \t modèle simple \t\t modèle double\n",
      "0  :  0.6064039408866995 \t 0.8863936591809776\n",
      "1  :  0.021798365122615803 \t 0.022099447513812154\n",
      "2  :  0.08859387699810349 \t 0.10531370038412292\n",
      "3  :  0.0 \t 0.0\n",
      "4  :  0.029763641669098336 \t 0.03600423579244617\n",
      "5  :  0.011235955056179775 \t 0.0125\n",
      "6  :  0.9381137957911145 \t 0.9053479711489208\n"
     ]
    }
   ],
   "source": [
    "# comparaison des modèles\n",
    "print(\"sans augmentation de données\")\n",
    "print(\"classe \\t modèle simple \\t\\t modèle double\")\n",
    "for i in range(6):\n",
    "    print(i, \" : \", array_proportion_correct[i], \"\\t\", array_proportion_correct_6[i])\n",
    "print(6, \" : \", array_proportion_correct[6], \"\\t\", accuracy_7e_classe)"
   ]
  },
  {
   "cell_type": "code",
   "execution_count": 34,
   "metadata": {},
   "outputs": [
    {
     "name": "stdout",
     "output_type": "stream",
     "text": [
      "augmentation de données\n",
      "classe \t modèle simple \t\t modèle double\n",
      "0  :  0.5686371100164204 \t 0.8353148392778512\n",
      "1  :  0.26430517711171664 \t 0.26795580110497236\n",
      "2  :  0.04226496884313194 \t 0.05025608194622279\n",
      "3  :  0.0 \t 0.0\n",
      "4  :  0.014881820834549168 \t 0.018002117896223083\n",
      "5  :  0.11095505617977527 \t 0.125\n",
      "6  :  0.9367974365636096 \t 0.9053479711489208\n"
     ]
    }
   ],
   "source": [
    "# comparaison des modèles\n",
    "print(\"augmentation de données\")\n",
    "print(\"classe \\t modèle simple \\t\\t modèle double\")\n",
    "for i in range(7):\n",
    "    print(i, \" : \", array_proportion_correct_aug[i], \"\\t\", proportion_correct_bayésien_double_aug[i])"
   ]
  }
 ],
 "metadata": {
  "kernelspec": {
   "display_name": "Python 3",
   "language": "python",
   "name": "python3"
  },
  "language_info": {
   "codemirror_mode": {
    "name": "ipython",
    "version": 3
   },
   "file_extension": ".py",
   "mimetype": "text/x-python",
   "name": "python",
   "nbconvert_exporter": "python",
   "pygments_lexer": "ipython3",
   "version": "3.7.7"
  }
 },
 "nbformat": 4,
 "nbformat_minor": 4
}
